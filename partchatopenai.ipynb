{
  "nbformat": 4,
  "nbformat_minor": 0,
  "metadata": {
    "colab": {
      "provenance": [],
      "authorship_tag": "ABX9TyM2EZCqdGOmwYlxz1qBx9GI",
      "include_colab_link": true
    },
    "kernelspec": {
      "name": "python3",
      "display_name": "Python 3"
    },
    "language_info": {
      "name": "python"
    }
  },
  "cells": [
    {
      "cell_type": "markdown",
      "metadata": {
        "id": "view-in-github",
        "colab_type": "text"
      },
      "source": [
        "<a href=\"https://colab.research.google.com/github/ord66/askcompany/blob/main/partchatopenai.ipynb\" target=\"_parent\"><img src=\"https://colab.research.google.com/assets/colab-badge.svg\" alt=\"Open In Colab\"/></a>"
      ]
    },
    {
      "cell_type": "code",
      "source": [
        "from google.colab import drive\n",
        "drive.mount('/content/drive/')"
      ],
      "metadata": {
        "colab": {
          "base_uri": "https://localhost:8080/"
        },
        "id": "QbdqF-YBeu4U",
        "outputId": "35077e7b-acd5-49dd-a987-7e3650477859"
      },
      "execution_count": null,
      "outputs": [
        {
          "output_type": "stream",
          "name": "stdout",
          "text": [
            "Drive already mounted at /content/drive/; to attempt to forcibly remount, call drive.mount(\"/content/drive/\", force_remount=True).\n"
          ]
        }
      ]
    },
    {
      "cell_type": "code",
      "source": [
        "%cd /content/drive/My Drive/data/"
      ],
      "metadata": {
        "colab": {
          "base_uri": "https://localhost:8080/"
        },
        "id": "MrJXfmqpfp4G",
        "outputId": "2511f857-2014-45b3-b421-9938b2d8adbf"
      },
      "execution_count": null,
      "outputs": [
        {
          "output_type": "stream",
          "name": "stdout",
          "text": [
            "/content/drive/My Drive/data\n"
          ]
        }
      ]
    },
    {
      "cell_type": "code",
      "source": [
        "!pip install --user --upgrade Pillow"
      ],
      "metadata": {
        "colab": {
          "base_uri": "https://localhost:8080/"
        },
        "id": "bmVJgm4PigzP",
        "outputId": "1bc5b727-e93d-4bff-9d2f-effa65093111"
      },
      "execution_count": null,
      "outputs": [
        {
          "output_type": "stream",
          "name": "stdout",
          "text": [
            "Requirement already satisfied: Pillow in /root/.local/lib/python3.10/site-packages (10.0.0)\n"
          ]
        }
      ]
    },
    {
      "cell_type": "code",
      "source": [
        "!pip install --upgrade langchain openai  -q"
      ],
      "metadata": {
        "id": "6IeVgiFywSZS"
      },
      "execution_count": null,
      "outputs": []
    },
    {
      "cell_type": "code",
      "source": [
        "!pip install sentence_transformers -q"
      ],
      "metadata": {
        "id": "bIsDJYB6wWAs"
      },
      "execution_count": null,
      "outputs": []
    },
    {
      "cell_type": "code",
      "source": [
        "!pip install unstructured -q\n",
        "!pip install unstructured[local-inference] -q\n",
        "!pip install detectron2@git+https://github.com/facebookresearch/detectron2.git@v0.6#egg=detectron2 -q"
      ],
      "metadata": {
        "id": "VMb55Vq7wayo",
        "colab": {
          "base_uri": "https://localhost:8080/"
        },
        "outputId": "1da06733-ac49-4dbc-d9ea-c8cc1253d266"
      },
      "execution_count": null,
      "outputs": [
        {
          "output_type": "stream",
          "name": "stdout",
          "text": [
            "  Preparing metadata (setup.py) ... \u001b[?25l\u001b[?25hdone\n"
          ]
        }
      ]
    },
    {
      "cell_type": "markdown",
      "source": [
        "  Preparing metadata (setup.py) ... done"
      ],
      "metadata": {
        "id": "Ow9qcXW1wpFU"
      }
    },
    {
      "cell_type": "code",
      "source": [
        "!apt-get install poppler-utils"
      ],
      "metadata": {
        "id": "2LNSTdGewuWT",
        "colab": {
          "base_uri": "https://localhost:8080/"
        },
        "outputId": "5e40daec-64b4-48a8-9adb-2c69f507bca6"
      },
      "execution_count": null,
      "outputs": [
        {
          "output_type": "stream",
          "name": "stdout",
          "text": [
            "Reading package lists... Done\n",
            "Building dependency tree       \n",
            "Reading state information... Done\n",
            "poppler-utils is already the newest version (0.86.1-0ubuntu1.1).\n",
            "0 upgraded, 0 newly installed, 0 to remove and 15 not upgraded.\n"
          ]
        }
      ]
    },
    {
      "cell_type": "code",
      "source": [
        "from langchain.document_loaders import DirectoryLoader\n",
        "\n",
        "directory = '/content/drive/MyDrive/data'\n",
        "\n",
        "def load_docs(directory):\n",
        "  loader = DirectoryLoader(directory)\n",
        "  documents = loader.load()\n",
        "  return documents\n",
        "\n",
        "documents = load_docs(directory)\n",
        "len(documents)"
      ],
      "metadata": {
        "colab": {
          "base_uri": "https://localhost:8080/"
        },
        "id": "QDtNsBpugXj6",
        "outputId": "628423ed-cfa0-441c-a2b7-c1513dd26dac"
      },
      "execution_count": null,
      "outputs": [
        {
          "output_type": "execute_result",
          "data": {
            "text/plain": [
              "14"
            ]
          },
          "metadata": {},
          "execution_count": 8
        }
      ]
    },
    {
      "cell_type": "code",
      "source": [
        "from langchain.text_splitter import RecursiveCharacterTextSplitter\n",
        "\n",
        "def split_docs(documents,chunk_size=500,chunk_overlap=20):\n",
        "  text_splitter = RecursiveCharacterTextSplitter(chunk_size=chunk_size, chunk_overlap=chunk_overlap)\n",
        "  docs = text_splitter.split_documents(documents)\n",
        "  return docs\n",
        "\n",
        "docs = split_docs(documents)\n",
        "print(len(docs))"
      ],
      "metadata": {
        "colab": {
          "base_uri": "https://localhost:8080/"
        },
        "id": "5GOIVtj1kDxv",
        "outputId": "92f1a501-a5a3-4ae4-c28b-9d89345061e7"
      },
      "execution_count": null,
      "outputs": [
        {
          "output_type": "stream",
          "name": "stdout",
          "text": [
            "3488\n"
          ]
        }
      ]
    },
    {
      "cell_type": "code",
      "source": [
        "print(docs[8].page_content)"
      ],
      "metadata": {
        "colab": {
          "base_uri": "https://localhost:8080/"
        },
        "id": "5Wch03DrkkQC",
        "outputId": "a10268b3-07af-4e18-be9b-0752dd865f60"
      },
      "execution_count": null,
      "outputs": [
        {
          "output_type": "stream",
          "name": "stdout",
          "text": [
            "The following manuals override (more restrictive of all applicable) in the event of a conflict with the\n",
            "\n",
            "(i)\n",
            "\n",
            "Turkish DGCA/EASA Regulations,\n",
            "\n",
            "QMS Document Template Number: FR.18.0001 | Revision 11\n",
            "\n",
            "Current Page: 30 | Total Page: 623\n",
            "\n",
            "EK.10.73.001 | Revision 4 OPERATIONS MANUAL PART-A CHAPTER 0 – ADMINISTRATION AND CONTROL\n",
            "\n",
            "(ii)\n",
            "\n",
            "ICAO Annexes (if applicable),\n",
            "\n",
            "(iii)\n",
            "\n",
            "FAA Regulations and/or Requirements (if applicable), and\n",
            "\n",
            "(iv) Aeroplane Flight Manuals.\n"
          ]
        }
      ]
    },
    {
      "cell_type": "code",
      "source": [
        "\n",
        "#requires for open ai embedding\n",
        "!pip install tiktoken -q"
      ],
      "metadata": {
        "id": "wtJu5QYEos29"
      },
      "execution_count": null,
      "outputs": []
    },
    {
      "cell_type": "code",
      "source": [
        "\n",
        "#import openai\n",
        "#from langchain.embeddings.openai import OpenAIEmbeddings\n",
        "#embeddings = OpenAIEmbeddings(model_name=\"ada\")\n",
        "from langchain.embeddings import SentenceTransformerEmbeddings\n",
        "embeddings = SentenceTransformerEmbeddings(model_name=\"all-MiniLM-L6-v2\")"
      ],
      "metadata": {
        "id": "4jKkOpmGoWOL"
      },
      "execution_count": null,
      "outputs": []
    },
    {
      "cell_type": "code",
      "source": [
        "query_result = embeddings.embed_query(\"Hello world\")\n",
        "len(query_result)"
      ],
      "metadata": {
        "colab": {
          "base_uri": "https://localhost:8080/"
        },
        "id": "jSeYem5NstV_",
        "outputId": "6dea0368-e8f9-4d26-a943-d05d698a9bfb"
      },
      "execution_count": null,
      "outputs": [
        {
          "output_type": "execute_result",
          "data": {
            "text/plain": [
              "384"
            ]
          },
          "metadata": {},
          "execution_count": 13
        }
      ]
    },
    {
      "cell_type": "code",
      "source": [
        "!pip install pinecone-client -q"
      ],
      "metadata": {
        "id": "igA_hNhyte60"
      },
      "execution_count": null,
      "outputs": []
    },
    {
      "cell_type": "code",
      "source": [
        "import pinecone\n",
        "from langchain.vectorstores import Pinecone\n",
        "# initialize pinecone\n",
        "pinecone.init(\n",
        "    api_key=\"9b33ef69-19d3-49a3-a381-3db30d63e70b\",  # find at app.pinecone.io\n",
        "    environment=\"asia-southeast1-gcp-free\"  # next to api key in console\n",
        ")\n",
        "\n",
        "index_name = \"knowledgebot\"\n",
        "\n",
        "index = Pinecone.from_documents(docs, embeddings, index_name=index_name)"
      ],
      "metadata": {
        "id": "uieEnyAkts6f"
      },
      "execution_count": null,
      "outputs": []
    },
    {
      "cell_type": "code",
      "source": [
        "def get_similiar_docs(query,k=14,score=False):\n",
        "  if score:\n",
        "    similar_docs = index.similarity_search_with_score(query,k=k)\n",
        "  else:\n",
        "    similar_docs = index.similarity_search(query,k=k)\n",
        "  return similar_docs\n",
        "\n",
        "query = \"what is the minimum rest time?\"\n",
        "similar_docs = get_similiar_docs(query)\n",
        "similar_docs\n"
      ],
      "metadata": {
        "colab": {
          "base_uri": "https://localhost:8080/"
        },
        "id": "T3Is-ZVu-XRY",
        "outputId": "72b0d1c9-84f5-4601-97f8-7a67e6201d35"
      },
      "execution_count": null,
      "outputs": [
        {
          "output_type": "execute_result",
          "data": {
            "text/plain": [
              "[Document(page_content='(ii) The minimum in-flight rest period is a consecutive 90-minute period for each crew member and 2 consecutive\\n\\nhours for the flight crew members at controls during the last landing.\\n\\n\\n\\nFor a particular flight, total time of the takeoff plus the landing is considered to be 60 minutes. Commander is responsible to plan the actual rest periods which assure the above specified minimum in-flight rest periods.', metadata={'source': '/content/drive/MyDrive/data/LIMITATIONS.pdf'}),\n",
              " Document(page_content='(ii) The minimum in-flight rest period is a consecutive 90-minute period for each crew member and 2 consecutive\\n\\nhours for the flight crew members at controls during the last landing.\\n\\n\\n\\nFor a particular flight, total time of the takeoff plus the landing is considered to be 60 minutes. Commander is responsible to plan the actual rest periods which assure the above specified minimum in-flight rest periods.', metadata={'source': '/content/drive/MyDrive/data/EK_10_73_001_EN_04_0003.PDF'}),\n",
              " Document(page_content='(ii) The minimum in-flight rest period is a consecutive 90-minute period for each crew member and 2 consecutive\\n\\nhours for the flight crew members at controls during the last landing.\\n\\n\\n\\nFor a particular flight, total time of the takeoff plus the landing is considered to be 60 minutes. Commander is responsible to plan the actual rest periods which assure the above specified minimum in-flight rest periods.', metadata={'source': '/content/drive/MyDrive/data/LIMITATIONS.pdf'}),\n",
              " Document(page_content='(ii) The minimum in-flight rest period is a consecutive 90-minute period for each crew member and 2 consecutive\\n\\nhours for the flight crew members at controls during the last landing.\\n\\n\\n\\nFor a particular flight, total time of the takeoff plus the landing is considered to be 60 minutes. Commander is responsible to plan the actual rest periods which assure the above specified minimum in-flight rest periods.', metadata={'source': '/content/drive/MyDrive/data/LIMITATIONS.pdf'}),\n",
              " Document(page_content='(ii) The minimum in-flight rest period is a consecutive 90-minute period for each crew member and 2 consecutive\\n\\nhours for the flight crew members at controls during the last landing.\\n\\n\\n\\nFor a particular flight, total time of the takeoff plus the landing is considered to be 60 minutes. Commander is responsible to plan the actual rest periods which assure the above specified minimum in-flight rest periods.', metadata={'source': '/content/drive/MyDrive/data/EK_10_73_001_EN_04_0003.PDF'}),\n",
              " Document(page_content='(ii) The minimum in-flight rest period is a consecutive 90-minute period for each crew member and 2 consecutive\\n\\nhours for the flight crew members at controls during the last landing.\\n\\n\\n\\nFor a particular flight, total time of the takeoff plus the landing is considered to be 60 minutes. Commander is responsible to plan the actual rest periods which assure the above specified minimum in-flight rest periods.', metadata={'source': '/content/drive/MyDrive/data/LIMITATIONS.pdf'}),\n",
              " Document(page_content='(ii) The minimum in-flight rest period is a consecutive 90-minute period for each crew member and 2 consecutive\\n\\nhours for the flight crew members at controls during the last landing.\\n\\n\\n\\nFor a particular flight, total time of the takeoff plus the landing is considered to be 60 minutes. Commander is responsible to plan the actual rest periods which assure the above specified minimum in-flight rest periods.', metadata={'source': '/content/drive/MyDrive/data/LIMITATIONS.pdf'}),\n",
              " Document(page_content='(ii) The minimum in-flight rest period is a consecutive 90-minute period for each crew member and 2 consecutive\\n\\nhours for the flight crew members at controls during the last landing.\\n\\n\\n\\nFor a particular flight, total time of the takeoff plus the landing is considered to be 60 minutes. Commander is responsible to plan the actual rest periods which assure the above specified minimum in-flight rest periods.', metadata={'source': '/content/drive/MyDrive/data/LIMITATIONS.pdf'}),\n",
              " Document(page_content='5) There is a maximum of 2 reduced rest periods between 2 recurrent extended recovery rest periods specified in\\n\\naccordance with Subchapter 7.1.15.4.\\n\\n7.1.15.4 Recurrent Extended Recovery Rest Periods\\n\\nThe minimum recurrent extended recovery rest period is 36 hours, including 2 local nights, and in any case the time between the end of one recurrent extended recovery rest period and the starts of the next extended recovery rest period is not more than 168 hours.', metadata={'source': '/content/drive/MyDrive/data/EK_10_73_001_EN_04_0003.PDF'}),\n",
              " Document(page_content='5) There is a maximum of 2 reduced rest periods between 2 recurrent extended recovery rest periods specified in\\n\\naccordance with Subchapter 7.1.15.4.\\n\\n7.1.15.4 Recurrent Extended Recovery Rest Periods\\n\\nThe minimum recurrent extended recovery rest period is 36 hours, including 2 local nights, and in any case the time between the end of one recurrent extended recovery rest period and the starts of the next extended recovery rest period is not more than 168 hours.', metadata={'source': '/content/drive/MyDrive/data/LIMITATIONS.pdf'}),\n",
              " Document(page_content='5) There is a maximum of 2 reduced rest periods between 2 recurrent extended recovery rest periods specified in\\n\\naccordance with Subchapter 7.1.15.4.\\n\\n7.1.15.4 Recurrent Extended Recovery Rest Periods\\n\\nThe minimum recurrent extended recovery rest period is 36 hours, including 2 local nights, and in any case the time between the end of one recurrent extended recovery rest period and the starts of the next extended recovery rest period is not more than 168 hours.', metadata={'source': '/content/drive/MyDrive/data/LIMITATIONS.pdf'}),\n",
              " Document(page_content='5) There is a maximum of 2 reduced rest periods between 2 recurrent extended recovery rest periods specified in\\n\\naccordance with Subchapter 7.1.15.4.\\n\\n7.1.15.4 Recurrent Extended Recovery Rest Periods\\n\\nThe minimum recurrent extended recovery rest period is 36 hours, including 2 local nights, and in any case the time between the end of one recurrent extended recovery rest period and the starts of the next extended recovery rest period is not more than 168 hours.', metadata={'source': '/content/drive/MyDrive/data/LIMITATIONS.pdf'}),\n",
              " Document(page_content='5) There is a maximum of 2 reduced rest periods between 2 recurrent extended recovery rest periods specified in\\n\\naccordance with Subchapter 7.1.15.4.\\n\\n7.1.15.4 Recurrent Extended Recovery Rest Periods\\n\\nThe minimum recurrent extended recovery rest period is 36 hours, including 2 local nights, and in any case the time between the end of one recurrent extended recovery rest period and the starts of the next extended recovery rest period is not more than 168 hours.', metadata={'source': '/content/drive/MyDrive/data/LIMITATIONS.pdf'}),\n",
              " Document(page_content='5) There is a maximum of 2 reduced rest periods between 2 recurrent extended recovery rest periods specified in\\n\\naccordance with Subchapter 7.1.15.4.\\n\\n7.1.15.4 Recurrent Extended Recovery Rest Periods\\n\\nThe minimum recurrent extended recovery rest period is 36 hours, including 2 local nights, and in any case the time between the end of one recurrent extended recovery rest period and the starts of the next extended recovery rest period is not more than 168 hours.', metadata={'source': '/content/drive/MyDrive/data/LIMITATIONS.pdf'})]"
            ]
          },
          "metadata": {},
          "execution_count": 16
        }
      ]
    }
  ]
}